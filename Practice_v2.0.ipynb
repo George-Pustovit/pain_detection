{
 "cells": [
  {
   "cell_type": "code",
   "execution_count": 1,
   "id": "fc94481d",
   "metadata": {},
   "outputs": [],
   "source": [
    "import matplotlib.pyplot as plt\n",
    "import numpy as np\n",
    "import pandas as pd\n",
    "import mne \n",
    "import os\n"
   ]
  },
  {
   "cell_type": "code",
   "execution_count": 9,
   "id": "7b3501c1",
   "metadata": {},
   "outputs": [],
   "source": [
    "def extract_eeg_data(folder_path, vhdr_file):\n",
    "    \"\"\" Извлекает данные ЭЭГ, события и маркирует боль. \"\"\"\n",
    "    # Путь к файлу VHDR\n",
    "    vhdr_path = os.path.join(folder_path, vhdr_file)\n",
    "\n",
    "    # Загрузка данных с использованием MNE\n",
    "    raw = mne.io.read_raw_brainvision(vhdr_path, preload=True)\n",
    "    data = raw.get_data()  # Извлечение данных сигнала\n",
    "    events, event_id = mne.events_from_annotations(raw)\n",
    "\n",
    "    # Создание массива для временной шкалы, боли и напряжения\n",
    "    time_array = [[i, 0, data[0][i]] for i in range(len(data[0]))]\n",
    "\n",
    "    # Идентификаторы событий боли\n",
    "    start_pain_id = 10001\n",
    "    end_pain_id = 10003\n",
    "\n",
    "    # Флаг для отслеживания боли\n",
    "    flag = 0\n",
    "\n",
    "    # Проход по массиву событий\n",
    "    for event in events:\n",
    "        if event[2] == start_pain_id:  # Начало боли\n",
    "            flag = 1\n",
    "        elif event[2] == end_pain_id:  # Конец боли\n",
    "            flag = 0\n",
    "\n",
    "        # Маркировка боли в массиве time_array\n",
    "        if flag == 1:\n",
    "            start_idx = event[0]  # Номер точки старта боли\n",
    "            for i in range(start_idx, len(time_array)):\n",
    "                time_array[i][1] = 1  # Маркировка боли\n",
    "                if time_array[i][0] == event[0] and event[2] == end_pain_id:\n",
    "                    break  # Прекращаем маркировку при достижении конца боли\n",
    "\n",
    "    # Преобразование массива в DataFrame\n",
    "    data_in_np = np.array(time_array)\n",
    "    df2 = pd.DataFrame(data_in_np, columns=['Time', 'Pain', 'Voltage'])\n",
    "\n",
    "    return df2\n",
    "\n",
    "def save_eeg_images(df, step, resolution, patient_id, save_dir='dataset'):\n",
    "    \"\"\" Сохраняет изображения ЭЭГ сигналов с болью и без боли в соответствующие папки. \"\"\"\n",
    "    pain_dir = os.path.join(save_dir, 'pain')\n",
    "    no_pain_dir = os.path.join(save_dir, 'no_pain')\n",
    "\n",
    "    # Создание папок, если их нет\n",
    "    os.makedirs(pain_dir, exist_ok=True)\n",
    "    os.makedirs(no_pain_dir, exist_ok=True)\n",
    "\n",
    "    pain_segments = []\n",
    "    no_pain_segments = []\n",
    "\n",
    "    # Разделение данных на сегменты боли и без боли\n",
    "    for i in range(len(df) // step):\n",
    "        pain_marker = 0\n",
    "        for k in range(i * step, (i + 1) * step):\n",
    "            if df.iloc[k]['Pain'] == 1:\n",
    "                pain_marker = 1\n",
    "                break  # Если хотя бы одна точка содержит боль, прерываем цикл\n",
    "\n",
    "        # Сохраняем индексы сегментов\n",
    "        if pain_marker == 1:\n",
    "            pain_segments.append(i)\n",
    "        else:\n",
    "            no_pain_segments.append(i)\n",
    "\n",
    "    # Балансировка классов\n",
    "    balanced_pain_segments = np.random.choice(pain_segments, len(no_pain_segments), replace=False)\n",
    "\n",
    "    # Функция для сохранения изображений\n",
    "    def save_plot(start_idx, folder, label):\n",
    "        plt.plot(df['Voltage'][start_idx * step:(start_idx + 1) * step])\n",
    "        plt.axis('off')\n",
    "        plt.gcf().set_size_inches(resolution / 100, resolution / 100)\n",
    "        file_name = f'{patient_id}_signal_{start_idx}_pain_{label}.png'\n",
    "        file_path = os.path.join(folder, file_name)\n",
    "        plt.savefig(file_path, dpi=100, format='png')\n",
    "        plt.clf()  # Очищает текущую фигуру для следующего графика\n",
    "\n",
    "    # Сохранение изображений с болью\n",
    "    for idx in balanced_pain_segments:\n",
    "        save_plot(idx, pain_dir, 1)\n",
    "\n",
    "    # Сохранение изображений без боли\n",
    "    for idx in no_pain_segments:\n",
    "        save_plot(idx, no_pain_dir, 0)\n",
    "\n",
    "    print(f\"Изображения пациента {patient_id} успешно сохранены.\")\n",
    "\n",
    "def process_all_patients(folder_path, step=50, resolution=128):\n",
    "    \"\"\" Обрабатывает данные для всех пациентов в папке и сохраняет изображения сигналов. \"\"\"\n",
    "    # Список всех VHDR файлов\n",
    "    files = [f for f in os.listdir(folder_path) if f.endswith(\".vhdr\")]\n",
    "\n",
    "    # Для каждого пациента (каждого набора файлов)\n",
    "    for vhdr_file in files:\n",
    "        # Извлечение идентификатора пациента из имени файла\n",
    "        patient_id = vhdr_file.split('_')[-1].replace('.vhdr', '')\n",
    "        print(f\"Обработка данных для пациента {patient_id}...\")\n",
    "\n",
    "        # Извлечение данных ЭЭГ\n",
    "        df = extract_eeg_data(folder_path, vhdr_file)\n",
    "\n",
    "        # Сохранение изображений\n",
    "        save_eeg_images(df, step, resolution, patient_id)\n",
    "\n"
   ]
  },
  {
   "cell_type": "code",
   "execution_count": 10,
   "id": "9ff37b29",
   "metadata": {},
   "outputs": [
    {
     "name": "stdout",
     "output_type": "stream",
     "text": [
      "Обработка данных для пациента vp01...\n",
      "Extracting parameters from experiment_3\\Exp_Mediation_Paradigm3_Motor_vp01.vhdr...\n",
      "Setting channel info structure...\n",
      "Reading 0 ... 715759  =      0.000 ...   715.759 secs...\n"
     ]
    },
    {
     "name": "stderr",
     "output_type": "stream",
     "text": [
      "C:\\Users\\George\\AppData\\Local\\Temp\\ipykernel_13112\\3896280184.py:7: RuntimeWarning: Channels contain different highpass filters. Lowest (weakest) filter setting (0.00 Hz) will be stored.\n",
      "  raw = mne.io.read_raw_brainvision(vhdr_path, preload=True)\n",
      "C:\\Users\\George\\AppData\\Local\\Temp\\ipykernel_13112\\3896280184.py:7: RuntimeWarning: Channels contain different lowpass filters. Highest (weakest) filter setting (500.00 Hz, Nyquist limit) will be stored.\n",
      "  raw = mne.io.read_raw_brainvision(vhdr_path, preload=True)\n"
     ]
    },
    {
     "name": "stdout",
     "output_type": "stream",
     "text": [
      "Used Annotations descriptions: ['Laser/L  1', 'New Segment/', 'Stimulus/S  1', 'Stimulus/S  2', 'Stimulus/S  3', 'Stimulus/S  5', 'Stimulus/S  6', 'Stimulus/S  8', 'Stimulus/S  9', 'Toggle/T  2', 'Toggle/T  3']\n",
      "Изображения пациента vp01 успешно сохранены.\n",
      "Обработка данных для пациента vp02...\n",
      "Extracting parameters from experiment_3\\Exp_Mediation_Paradigm3_Motor_vp02.vhdr...\n",
      "Setting channel info structure...\n",
      "Reading 0 ... 660679  =      0.000 ...   660.679 secs...\n"
     ]
    },
    {
     "name": "stderr",
     "output_type": "stream",
     "text": [
      "C:\\Users\\George\\AppData\\Local\\Temp\\ipykernel_13112\\3896280184.py:7: RuntimeWarning: Channels contain different highpass filters. Lowest (weakest) filter setting (0.00 Hz) will be stored.\n",
      "  raw = mne.io.read_raw_brainvision(vhdr_path, preload=True)\n",
      "C:\\Users\\George\\AppData\\Local\\Temp\\ipykernel_13112\\3896280184.py:7: RuntimeWarning: Channels contain different lowpass filters. Highest (weakest) filter setting (500.00 Hz, Nyquist limit) will be stored.\n",
      "  raw = mne.io.read_raw_brainvision(vhdr_path, preload=True)\n"
     ]
    },
    {
     "name": "stdout",
     "output_type": "stream",
     "text": [
      "Used Annotations descriptions: ['Laser/L  1', 'New Segment/', 'Stimulus/S  1', 'Stimulus/S  2', 'Stimulus/S  3', 'Stimulus/S  5', 'Stimulus/S  6', 'Stimulus/S  8', 'Stimulus/S  9', 'Toggle/T  2', 'Toggle/T  3']\n",
      "Изображения пациента vp02 успешно сохранены.\n",
      "Обработка данных для пациента vp03...\n",
      "Extracting parameters from experiment_3\\Exp_Mediation_Paradigm3_Motor_vp03.vhdr...\n",
      "Setting channel info structure...\n",
      "Reading 0 ... 639439  =      0.000 ...   639.439 secs...\n"
     ]
    },
    {
     "name": "stderr",
     "output_type": "stream",
     "text": [
      "C:\\Users\\George\\AppData\\Local\\Temp\\ipykernel_13112\\3896280184.py:7: RuntimeWarning: Channels contain different highpass filters. Lowest (weakest) filter setting (0.00 Hz) will be stored.\n",
      "  raw = mne.io.read_raw_brainvision(vhdr_path, preload=True)\n",
      "C:\\Users\\George\\AppData\\Local\\Temp\\ipykernel_13112\\3896280184.py:7: RuntimeWarning: Channels contain different lowpass filters. Highest (weakest) filter setting (500.00 Hz, Nyquist limit) will be stored.\n",
      "  raw = mne.io.read_raw_brainvision(vhdr_path, preload=True)\n"
     ]
    },
    {
     "name": "stdout",
     "output_type": "stream",
     "text": [
      "Used Annotations descriptions: ['Laser/L  1', 'New Segment/', 'Stimulus/S  1', 'Stimulus/S  2', 'Stimulus/S  3', 'Stimulus/S  5', 'Stimulus/S  6', 'Stimulus/S  8', 'Stimulus/S  9', 'Toggle/T  2', 'Toggle/T  3']\n",
      "Изображения пациента vp03 успешно сохранены.\n"
     ]
    },
    {
     "data": {
      "text/plain": [
       "<Figure size 128x128 with 0 Axes>"
      ]
     },
     "metadata": {},
     "output_type": "display_data"
    }
   ],
   "source": [
    "# Пример использования:\n",
    "# Путь к папке с файлами всех пациентов\n",
    "folder_path = 'experiment_3'\n",
    "process_all_patients(folder_path)\n"
   ]
  },
  {
   "cell_type": "code",
   "execution_count": null,
   "id": "93e436ff",
   "metadata": {},
   "outputs": [],
   "source": []
  }
 ],
 "metadata": {
  "kernelspec": {
   "display_name": "Python 3 (ipykernel)",
   "language": "python",
   "name": "python3"
  },
  "language_info": {
   "codemirror_mode": {
    "name": "ipython",
    "version": 3
   },
   "file_extension": ".py",
   "mimetype": "text/x-python",
   "name": "python",
   "nbconvert_exporter": "python",
   "pygments_lexer": "ipython3",
   "version": "3.7.12"
  }
 },
 "nbformat": 4,
 "nbformat_minor": 5
}
