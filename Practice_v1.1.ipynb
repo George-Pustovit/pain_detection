{
 "cells": [
  {
   "cell_type": "code",
   "execution_count": 1,
   "id": "bf2bf09f-ed0c-4cb2-827c-8ef5251d019d",
   "metadata": {},
   "outputs": [],
   "source": [
    "import matplotlib.pyplot as plt\n",
    "import numpy as np\n",
    "import pandas as pd\n",
    "import mne \n",
    "import os\n",
    "\n",
    "\n"
   ]
  },
  {
   "cell_type": "code",
   "execution_count": 2,
   "id": "c3c6c603-6eec-4e7d-9a01-137c1beaf4e7",
   "metadata": {},
   "outputs": [],
   "source": [
    "VHDR = 'Exp_Mediation_Paradigm3_Motor_vp01.vhdr'\n",
    "EEG = 'Exp_Mediation_Paradigm3_Motor_vp01.eeg'\n",
    "VRMK = 'Exp_Mediation_Paradigm3_Motor_vp01.vrmk'"
   ]
  },
  {
   "cell_type": "code",
   "execution_count": 3,
   "id": "c1cdc028-9e90-4602-8c6b-808357fb4bdc",
   "metadata": {},
   "outputs": [
    {
     "name": "stdout",
     "output_type": "stream",
     "text": [
      "Extracting parameters from Exp_Mediation_Paradigm3_Motor_vp01.vhdr...\n",
      "Setting channel info structure...\n"
     ]
    },
    {
     "name": "stderr",
     "output_type": "stream",
     "text": [
      "C:\\Users\\George\\AppData\\Local\\Temp\\ipykernel_10624\\1713186092.py:1: RuntimeWarning: Channels contain different highpass filters. Lowest (weakest) filter setting (0.00 Hz) will be stored.\n",
      "  raw = mne.io.read_raw_brainvision(VHDR)\n",
      "C:\\Users\\George\\AppData\\Local\\Temp\\ipykernel_10624\\1713186092.py:1: RuntimeWarning: Channels contain different lowpass filters. Highest (weakest) filter setting (500.00 Hz, Nyquist limit) will be stored.\n",
      "  raw = mne.io.read_raw_brainvision(VHDR)\n"
     ]
    }
   ],
   "source": [
    "raw = mne.io.read_raw_brainvision(VHDR)"
   ]
  },
  {
   "cell_type": "code",
   "execution_count": 4,
   "id": "3d0fe3fa-2cf9-4576-8189-c2b9634dba7f",
   "metadata": {},
   "outputs": [],
   "source": [
    "data = raw.get_data()"
   ]
  },
  {
   "cell_type": "code",
   "execution_count": 5,
   "id": "8cce1110-8702-4b0e-976a-a10f45344555",
   "metadata": {},
   "outputs": [
    {
     "name": "stdout",
     "output_type": "stream",
     "text": [
      "(69, 715760)\n"
     ]
    }
   ],
   "source": [
    "print(data.shape)# Вывод формы массива (количество каналов, количество отсчетов)"
   ]
  },
  {
   "cell_type": "code",
   "execution_count": 6,
   "id": "fe645fb2-eb09-4bae-9018-e26b267373e4",
   "metadata": {},
   "outputs": [
    {
     "data": {
      "text/html": [
       "<table class=\"table table-hover table-striped table-sm table-responsive small\">\n",
       "    <tr>\n",
       "        <th>Measurement date</th>\n",
       "        \n",
       "        <td>April 12, 2016  16:36:29 GMT</td>\n",
       "        \n",
       "    </tr>\n",
       "    <tr>\n",
       "        <th>Experimenter</th>\n",
       "        \n",
       "        <td>Unknown</td>\n",
       "        \n",
       "    </tr>\n",
       "        <th>Participant</th>\n",
       "        \n",
       "        <td>Unknown</td>\n",
       "        \n",
       "    </tr>\n",
       "    <tr>\n",
       "        <th>Digitized points</th>\n",
       "        \n",
       "        <td>Not available</td>\n",
       "        \n",
       "    </tr>\n",
       "    <tr>\n",
       "        <th>Good channels</th>\n",
       "        <td>68 EEG, 1 misc</td>\n",
       "    </tr>\n",
       "    <tr>\n",
       "        <th>Bad channels</th>\n",
       "        <td>None</td>\n",
       "    </tr>\n",
       "    <tr>\n",
       "        <th>EOG channels</th>\n",
       "        <td>Not available</td>\n",
       "    </tr>\n",
       "    <tr>\n",
       "        <th>ECG channels</th>\n",
       "        <td>Not available</td>\n",
       "    \n",
       "    <tr>\n",
       "        <th>Sampling frequency</th>\n",
       "        <td>1000.00 Hz</td>\n",
       "    </tr>\n",
       "    \n",
       "    \n",
       "    <tr>\n",
       "        <th>Highpass</th>\n",
       "        <td>0.00 Hz</td>\n",
       "    </tr>\n",
       "    \n",
       "    \n",
       "    <tr>\n",
       "        <th>Lowpass</th>\n",
       "        <td>500.00 Hz</td>\n",
       "    </tr>\n",
       "    \n",
       "    \n",
       "    \n",
       "    <tr>\n",
       "        <th>Filenames</th>\n",
       "        <td>Exp_Mediation_Paradigm3_Motor_vp01.eeg</td>\n",
       "    </tr>\n",
       "    \n",
       "    <tr>\n",
       "        <th>Duration</th>\n",
       "        <td>00:11:56 (HH:MM:SS)</td>\n",
       "    </tr>\n",
       "</table>"
      ],
      "text/plain": [
       "<RawBrainVision | Exp_Mediation_Paradigm3_Motor_vp01.eeg, 69 x 715760 (715.8 s), ~74 kB, data not loaded>"
      ]
     },
     "execution_count": 6,
     "metadata": {},
     "output_type": "execute_result"
    }
   ],
   "source": [
    "raw.crop()"
   ]
  },
  {
   "cell_type": "code",
   "execution_count": 7,
   "id": "b5168039-8e6b-4208-9474-6e4a70afcc85",
   "metadata": {},
   "outputs": [
    {
     "data": {
      "text/plain": [
       "716000"
      ]
     },
     "execution_count": 7,
     "metadata": {},
     "output_type": "execute_result"
    }
   ],
   "source": [
    "(11*60+56)*1000 #"
   ]
  },
  {
   "cell_type": "code",
   "execution_count": 30,
   "id": "4ccfb6b8-7033-4819-b22c-165e19bf03de",
   "metadata": {},
   "outputs": [
    {
     "name": "stdout",
     "output_type": "stream",
     "text": [
      "Used Annotations descriptions: ['Laser/L  1', 'New Segment/', 'Stimulus/S  1', 'Stimulus/S  2', 'Stimulus/S  3', 'Stimulus/S  5', 'Stimulus/S  6', 'Stimulus/S  8', 'Stimulus/S  9', 'Toggle/T  2', 'Toggle/T  3']\n"
     ]
    }
   ],
   "source": [
    "events, event_id = mne.events_from_annotations(raw)"
   ]
  },
  {
   "cell_type": "code",
   "execution_count": 9,
   "id": "1a88a875-5b73-454a-99d3-cd85cfcbc77a",
   "metadata": {},
   "outputs": [
    {
     "data": {
      "text/plain": [
       "{'Laser/L  1': 10001,\n",
       " 'New Segment/': 99999,\n",
       " 'Stimulus/S  1': 1,\n",
       " 'Stimulus/S  2': 2,\n",
       " 'Stimulus/S  3': 3,\n",
       " 'Stimulus/S  5': 5,\n",
       " 'Stimulus/S  6': 6,\n",
       " 'Stimulus/S  8': 8,\n",
       " 'Stimulus/S  9': 9,\n",
       " 'Toggle/T  2': 10002,\n",
       " 'Toggle/T  3': 10003}"
      ]
     },
     "execution_count": 9,
     "metadata": {},
     "output_type": "execute_result"
    }
   ],
   "source": [
    "event_id"
   ]
  },
  {
   "cell_type": "code",
   "execution_count": 24,
   "id": "366ffad9-fe2e-46da-a9c0-aba82c2d224d",
   "metadata": {},
   "outputs": [
    {
     "data": {
      "text/plain": [
       "array([[     0,      0,  99999],\n",
       "       [  9965,      0,      5],\n",
       "       [  9990,      0,      3],\n",
       "       [ 10998,      0,  10001],\n",
       "       [ 11590,      0,  10003],\n",
       "       [ 12668,      0,  10002],\n",
       "       [ 20916,      0,      2],\n",
       "       [ 21927,      0,  10001],\n",
       "       [ 22496,      0,  10003],\n",
       "       [ 24445,      0,  10002],\n",
       "       [ 29934,      0,      2],\n",
       "       [ 30937,      0,  10001],\n",
       "       [ 31364,      0,  10003],\n",
       "       [ 33141,      0,  10002],\n",
       "       [ 38852,      0,      3],\n",
       "       [ 39857,      0,  10001],\n",
       "       [ 40228,      0,  10003],\n",
       "       [ 42617,      0,  10002],\n",
       "       [ 47470,      0,      3],\n",
       "       [ 48477,      0,  10001],\n",
       "       [ 48915,      0,  10003],\n",
       "       [ 51456,      0,  10002],\n",
       "       [ 57796,      0,      2],\n",
       "       [ 58797,      0,  10001],\n",
       "       [ 59209,      0,  10003],\n",
       "       [ 61215,      0,  10002],\n",
       "       [ 68214,      0,      1],\n",
       "       [ 69218,      0,  10001],\n",
       "       [ 73219,      0,      9],\n",
       "       [ 75611,      0,  10003],\n",
       "       [ 76942,      0,  10002],\n",
       "       [ 87833,      0,      3],\n",
       "       [ 88836,      0,  10001],\n",
       "       [ 89255,      0,  10003],\n",
       "       [ 91373,      0,  10002],\n",
       "       [ 99560,      0,      2],\n",
       "       [100568,      0,  10001],\n",
       "       [100914,      0,  10003],\n",
       "       [102946,      0,  10002],\n",
       "       [110678,      0,      1],\n",
       "       [111688,      0,  10001],\n",
       "       [112699,      0,  10003],\n",
       "       [114396,      0,  10002],\n",
       "       [121104,      0,      2],\n",
       "       [122106,      0,  10001],\n",
       "       [123176,      0,  10003],\n",
       "       [125192,      0,  10002],\n",
       "       [125950,      0,  10003],\n",
       "       [126181,      0,  10002],\n",
       "       [126481,      0,  10003],\n",
       "       [126901,      0,  10002],\n",
       "       [132631,      0,      1],\n",
       "       [133638,      0,  10001],\n",
       "       [134614,      0,  10003],\n",
       "       [136761,      0,  10002],\n",
       "       [142657,      0,      3],\n",
       "       [143667,      0,  10001],\n",
       "       [144012,      0,  10003],\n",
       "       [146222,      0,  10002],\n",
       "       [152475,      0,      2],\n",
       "       [153477,      0,  10001],\n",
       "       [153791,      0,  10003],\n",
       "       [155954,      0,  10002],\n",
       "       [161393,      0,      3],\n",
       "       [162398,      0,  10001],\n",
       "       [163246,      0,  10003],\n",
       "       [165359,      0,  10002],\n",
       "       [172320,      0,      1],\n",
       "       [173328,      0,  10001],\n",
       "       [174547,      0,  10003],\n",
       "       [177368,      0,  10002],\n",
       "       [182646,      0,      1],\n",
       "       [183657,      0,  10001],\n",
       "       [184642,      0,  10003],\n",
       "       [186916,      0,  10002],\n",
       "       [190572,      0,      3],\n",
       "       [191577,      0,  10001],\n",
       "       [192000,      0,  10003],\n",
       "       [193806,      0,  10002],\n",
       "       [201099,      0,      1],\n",
       "       [202108,      0,  10001],\n",
       "       [203152,      0,  10003],\n",
       "       [205415,      0,  10002],\n",
       "       [212825,      0,      2],\n",
       "       [213826,      0,  10001],\n",
       "       [217830,      0,      9],\n",
       "       [219242,      0,  10003],\n",
       "       [220980,      0,  10002],\n",
       "       [230744,      0,      2],\n",
       "       [231747,      0,  10001],\n",
       "       [232209,      0,  10003],\n",
       "       [234080,      0,  10002],\n",
       "       [241071,      0,      3],\n",
       "       [242077,      0,  10001],\n",
       "       [242387,      0,  10003],\n",
       "       [244850,      0,  10002],\n",
       "       [251897,      0,      3],\n",
       "       [252907,      0,  10001],\n",
       "       [253326,      0,  10003],\n",
       "       [255860,      0,  10002],\n",
       "       [260115,      0,      2],\n",
       "       [261117,      0,  10001],\n",
       "       [261990,      0,  10003],\n",
       "       [264445,      0,  10002],\n",
       "       [264998,      0,  10003],\n",
       "       [265362,      0,  10002],\n",
       "       [268733,      0,      3],\n",
       "       [269737,      0,  10001],\n",
       "       [270123,      0,  10003],\n",
       "       [272211,      0,  10002],\n",
       "       [274548,      0,  10003],\n",
       "       [274929,      0,  10002],\n",
       "       [279828,      0,  10003],\n",
       "       [280142,      0,      8],\n",
       "       [280214,      0,  10002],\n",
       "       [288177,      0,      1],\n",
       "       [289186,      0,  10001],\n",
       "       [290608,      0,  10003],\n",
       "       [292568,      0,  10002],\n",
       "       [299203,      0,      2],\n",
       "       [300207,      0,  10001],\n",
       "       [300635,      0,  10003],\n",
       "       [302878,      0,  10002],\n",
       "       [310930,      0,      3],\n",
       "       [311936,      0,  10001],\n",
       "       [312327,      0,  10003],\n",
       "       [314731,      0,  10002],\n",
       "       [318025,      0,  10003],\n",
       "       [320039,      0,      8],\n",
       "       [325723,      0,  10002],\n",
       "       [325951,      0,  10003],\n",
       "       [327829,      0,  10002],\n",
       "       [328074,      0,      3],\n",
       "       [329086,      0,  10001],\n",
       "       [333079,      0,      9],\n",
       "       [335592,      0,  10003],\n",
       "       [336571,      0,  10002],\n",
       "       [347401,      0,      1],\n",
       "       [348406,      0,  10001],\n",
       "       [348858,      0,  10003],\n",
       "       [350351,      0,  10002],\n",
       "       [358628,      0,      1],\n",
       "       [359635,      0,  10001],\n",
       "       [360592,      0,  10003],\n",
       "       [362011,      0,  10002],\n",
       "       [369854,      0,      2],\n",
       "       [370865,      0,  10001],\n",
       "       [371283,      0,  10003],\n",
       "       [373072,      0,  10002],\n",
       "       [379472,      0,      1],\n",
       "       [380475,      0,  10001],\n",
       "       [381015,      0,  10003],\n",
       "       [382742,      0,  10002],\n",
       "       [389599,      0,      3],\n",
       "       [390606,      0,  10001],\n",
       "       [390988,      0,  10003],\n",
       "       [392916,      0,  10002],\n",
       "       [401225,      0,      1],\n",
       "       [402236,      0,  10001],\n",
       "       [402565,      0,  10003],\n",
       "       [405052,      0,  10002],\n",
       "       [411552,      0,      3],\n",
       "       [412556,      0,  10001],\n",
       "       [412997,      0,  10003],\n",
       "       [415130,      0,  10002],\n",
       "       [417350,      0,  10003],\n",
       "       [419461,      0,      8],\n",
       "       [426774,      0,  10002],\n",
       "       [427496,      0,      3],\n",
       "       [428504,      0,  10001],\n",
       "       [429124,      0,  10003],\n",
       "       [430649,      0,  10002],\n",
       "       [436522,      0,      1],\n",
       "       [437525,      0,  10001],\n",
       "       [438745,      0,  10003],\n",
       "       [440298,      0,  10002],\n",
       "       [444939,      0,      2],\n",
       "       [445946,      0,  10001],\n",
       "       [446416,      0,  10003],\n",
       "       [448310,      0,  10002],\n",
       "       [455666,      0,      2],\n",
       "       [456675,      0,  10001],\n",
       "       [457127,      0,  10003],\n",
       "       [459169,      0,  10002],\n",
       "       [463784,      0,      1],\n",
       "       [464794,      0,  10001],\n",
       "       [465452,      0,  10003],\n",
       "       [467456,      0,  10002],\n",
       "       [473402,      0,      2],\n",
       "       [474404,      0,  10001],\n",
       "       [475450,      0,  10003],\n",
       "       [477235,      0,  10002],\n",
       "       [481396,      0,  10003],\n",
       "       [483709,      0,  10002],\n",
       "       [484028,      0,      1],\n",
       "       [485036,      0,  10001],\n",
       "       [486355,      0,  10003],\n",
       "       [488192,      0,  10002],\n",
       "       [492196,      0,  10003],\n",
       "       [492671,      0,  10002],\n",
       "       [494154,      0,      2],\n",
       "       [495164,      0,  10001],\n",
       "       [495642,      0,  10003],\n",
       "       [497380,      0,  10002],\n",
       "       [502772,      0,      2],\n",
       "       [503774,      0,  10001],\n",
       "       [504490,      0,  10003],\n",
       "       [505872,      0,  10002],\n",
       "       [509163,      0,  10003],\n",
       "       [510982,      0,      8],\n",
       "       [519016,      0,      1],\n",
       "       [520025,      0,  10001],\n",
       "       [520258,      0,  10002],\n",
       "       [524021,      0,      9],\n",
       "       [531232,      0,  10003],\n",
       "       [535626,      0,      8],\n",
       "       [539719,      0,  10002],\n",
       "       [540568,      0,  10003],\n",
       "       [541359,      0,  10002],\n",
       "       [543661,      0,      2],\n",
       "       [544674,      0,  10001],\n",
       "       [545732,      0,  10003],\n",
       "       [547089,      0,  10002],\n",
       "       [553087,      0,      3],\n",
       "       [554095,      0,  10001],\n",
       "       [554430,      0,  10003],\n",
       "       [555721,      0,  10002],\n",
       "       [564714,      0,      1],\n",
       "       [565724,      0,  10001],\n",
       "       [566713,      0,  10003],\n",
       "       [568171,      0,  10002],\n",
       "       [575440,      0,      2],\n",
       "       [576444,      0,  10001],\n",
       "       [577816,      0,  10003],\n",
       "       [579541,      0,  10002],\n",
       "       [584058,      0,      1],\n",
       "       [585064,      0,  10001],\n",
       "       [586361,      0,  10003],\n",
       "       [588762,      0,  10002],\n",
       "       [590921,      0,  10003],\n",
       "       [591296,      0,  10002],\n",
       "       [595085,      0,      2],\n",
       "       [596095,      0,  10001],\n",
       "       [596739,      0,  10003],\n",
       "       [598713,      0,  10002],\n",
       "       [604702,      0,      3],\n",
       "       [605705,      0,  10001],\n",
       "       [606445,      0,  10003],\n",
       "       [608378,      0,  10002],\n",
       "       [609792,      0,  10003],\n",
       "       [610129,      0,  10002],\n",
       "       [612144,      0,  10003],\n",
       "       [612454,      0,  10002],\n",
       "       [612886,      0,  10003],\n",
       "       [613156,      0,  10002],\n",
       "       [615429,      0,      3],\n",
       "       [616434,      0,  10001],\n",
       "       [617393,      0,  10003],\n",
       "       [619153,      0,  10002],\n",
       "       [621499,      0,  10003],\n",
       "       [622231,      0,  10002],\n",
       "       [623508,      0,  10003],\n",
       "       [624565,      0,  10002],\n",
       "       [624638,      0,      8],\n",
       "       [632673,      0,      1],\n",
       "       [633685,      0,  10001],\n",
       "       [637680,      0,      9],\n",
       "       [639998,      0,  10003],\n",
       "       [644330,      0,  10002],\n",
       "       [650800,      0,      1],\n",
       "       [651804,      0,  10001],\n",
       "       [652752,      0,  10003],\n",
       "       [654493,      0,  10002],\n",
       "       [662727,      0,      3],\n",
       "       [663734,      0,  10001],\n",
       "       [664211,      0,  10003],\n",
       "       [666246,      0,  10002],\n",
       "       [673353,      0,      1],\n",
       "       [673909,      0,  10003],\n",
       "       [674354,      0,  10001],\n",
       "       [674840,      0,  10002],\n",
       "       [684880,      0,      2],\n",
       "       [685884,      0,  10001],\n",
       "       [686458,      0,  10003],\n",
       "       [688024,      0,  10002],\n",
       "       [689848,      0,  10003],\n",
       "       [694189,      0,      8],\n",
       "       [697851,      0,  10002],\n",
       "       [702224,      0,      3],\n",
       "       [703233,      0,  10001],\n",
       "       [703780,      0,  10003],\n",
       "       [707089,      0,  10002],\n",
       "       [714840,      0,      6]])"
      ]
     },
     "execution_count": 24,
     "metadata": {},
     "output_type": "execute_result"
    }
   ],
   "source": [
    "events[1]"
   ]
  },
  {
   "cell_type": "code",
   "execution_count": 10,
   "id": "f3f2e092-e2e7-4c75-8d0b-a1dceee0ffb0",
   "metadata": {},
   "outputs": [],
   "source": [
    "pain_id = [10002]"
   ]
  },
  {
   "cell_type": "code",
   "execution_count": 31,
   "id": "ea3df510-d966-4720-a960-120d829ac03f",
   "metadata": {},
   "outputs": [],
   "source": [
    "time_array = [i for i in  range(len(data[0]))]\n",
    "for i in range(len(data[0])):\n",
    "    time_array[i] = [i,0,data[0][i]]"
   ]
  },
  {
   "cell_type": "code",
   "execution_count": null,
   "id": "c866bec9-3d8a-4e91-98b6-38a160a59af9",
   "metadata": {},
   "outputs": [],
   "source": []
  },
  {
   "cell_type": "code",
   "execution_count": 12,
   "id": "5ec1e7b5-748e-4106-8748-1aadb13276e6",
   "metadata": {},
   "outputs": [],
   "source": [
    " time_array[events[1][0]][1] = 0"
   ]
  },
  {
   "cell_type": "code",
   "execution_count": 32,
   "id": "bf8faf55-cb67-41e1-866c-2ded85af6bfd",
   "metadata": {},
   "outputs": [],
   "source": [
    "# Идентификаторы событий боли\n",
    "start_pain_id = 10001\n",
    "end_pain_id = 10003\n",
    "\n",
    "# Флаг для отслеживания боли\n",
    "flag = 0\n",
    "\n",
    "# Проход по массиву событий\n",
    "for event in events:\n",
    "    if event[2] == start_pain_id:  # Начало боли\n",
    "        flag = 1\n",
    "    elif event[2] == end_pain_id:  # Конец боли\n",
    "        flag = 0\n",
    "\n",
    "    # Если флаг установлен, маркируем боль в массиве time_array\n",
    "    if flag == 1:\n",
    "        # Маркируем все точки между стартом и концом боли\n",
    "        start_idx = event[0]  # Номер точки старта боли\n",
    "        for i in range(start_idx, len(time_array)):\n",
    "            time_array[i][1] = 1  # Маркировка боли\n",
    "            if time_array[i][0] == event[0] and event[2] == end_pain_id:\n",
    "                break  # Прекращаем маркировку при достижении конца боли\n"
   ]
  },
  {
   "cell_type": "code",
   "execution_count": 33,
   "id": "b23b71b5-0117-4f23-9282-fa380359be14",
   "metadata": {},
   "outputs": [],
   "source": [
    "data_in_np = np.array(time_array)\n",
    "df2 = pd.DataFrame(data_in_np,columns=['Time', 'Pain', 'Voltage'])"
   ]
  },
  {
   "cell_type": "code",
   "execution_count": 34,
   "id": "28627276-1709-414c-89d0-412630e57dbd",
   "metadata": {},
   "outputs": [
    {
     "name": "stdout",
     "output_type": "stream",
     "text": [
      "<class 'pandas.core.frame.DataFrame'>\n",
      "RangeIndex: 715760 entries, 0 to 715759\n",
      "Data columns (total 3 columns):\n",
      " #   Column   Non-Null Count   Dtype  \n",
      "---  ------   --------------   -----  \n",
      " 0   Time     715760 non-null  float64\n",
      " 1   Pain     715760 non-null  float64\n",
      " 2   Voltage  715760 non-null  float64\n",
      "dtypes: float64(3)\n",
      "memory usage: 16.4 MB\n"
     ]
    }
   ],
   "source": [
    "df2.info()"
   ]
  },
  {
   "cell_type": "code",
   "execution_count": 36,
   "id": "3d66ee9e-6de0-42ca-b810-30f76f295386",
   "metadata": {},
   "outputs": [
    {
     "data": {
      "text/html": [
       "<div>\n",
       "<style scoped>\n",
       "    .dataframe tbody tr th:only-of-type {\n",
       "        vertical-align: middle;\n",
       "    }\n",
       "\n",
       "    .dataframe tbody tr th {\n",
       "        vertical-align: top;\n",
       "    }\n",
       "\n",
       "    .dataframe thead th {\n",
       "        text-align: right;\n",
       "    }\n",
       "</style>\n",
       "<table border=\"1\" class=\"dataframe\">\n",
       "  <thead>\n",
       "    <tr style=\"text-align: right;\">\n",
       "      <th></th>\n",
       "      <th>Time</th>\n",
       "      <th>Pain</th>\n",
       "      <th>Voltage</th>\n",
       "    </tr>\n",
       "  </thead>\n",
       "  <tbody>\n",
       "    <tr>\n",
       "      <th>0</th>\n",
       "      <td>0.0</td>\n",
       "      <td>0.0</td>\n",
       "      <td>0.000044</td>\n",
       "    </tr>\n",
       "    <tr>\n",
       "      <th>1</th>\n",
       "      <td>1.0</td>\n",
       "      <td>0.0</td>\n",
       "      <td>0.000044</td>\n",
       "    </tr>\n",
       "    <tr>\n",
       "      <th>2</th>\n",
       "      <td>2.0</td>\n",
       "      <td>0.0</td>\n",
       "      <td>0.000037</td>\n",
       "    </tr>\n",
       "    <tr>\n",
       "      <th>3</th>\n",
       "      <td>3.0</td>\n",
       "      <td>0.0</td>\n",
       "      <td>0.000035</td>\n",
       "    </tr>\n",
       "    <tr>\n",
       "      <th>4</th>\n",
       "      <td>4.0</td>\n",
       "      <td>0.0</td>\n",
       "      <td>0.000042</td>\n",
       "    </tr>\n",
       "    <tr>\n",
       "      <th>...</th>\n",
       "      <td>...</td>\n",
       "      <td>...</td>\n",
       "      <td>...</td>\n",
       "    </tr>\n",
       "    <tr>\n",
       "      <th>10993</th>\n",
       "      <td>10993.0</td>\n",
       "      <td>0.0</td>\n",
       "      <td>0.000106</td>\n",
       "    </tr>\n",
       "    <tr>\n",
       "      <th>10994</th>\n",
       "      <td>10994.0</td>\n",
       "      <td>0.0</td>\n",
       "      <td>0.000103</td>\n",
       "    </tr>\n",
       "    <tr>\n",
       "      <th>10995</th>\n",
       "      <td>10995.0</td>\n",
       "      <td>0.0</td>\n",
       "      <td>0.000105</td>\n",
       "    </tr>\n",
       "    <tr>\n",
       "      <th>10996</th>\n",
       "      <td>10996.0</td>\n",
       "      <td>0.0</td>\n",
       "      <td>0.000116</td>\n",
       "    </tr>\n",
       "    <tr>\n",
       "      <th>10997</th>\n",
       "      <td>10997.0</td>\n",
       "      <td>0.0</td>\n",
       "      <td>0.000125</td>\n",
       "    </tr>\n",
       "  </tbody>\n",
       "</table>\n",
       "<p>10998 rows × 3 columns</p>\n",
       "</div>"
      ],
      "text/plain": [
       "          Time  Pain   Voltage\n",
       "0          0.0   0.0  0.000044\n",
       "1          1.0   0.0  0.000044\n",
       "2          2.0   0.0  0.000037\n",
       "3          3.0   0.0  0.000035\n",
       "4          4.0   0.0  0.000042\n",
       "...        ...   ...       ...\n",
       "10993  10993.0   0.0  0.000106\n",
       "10994  10994.0   0.0  0.000103\n",
       "10995  10995.0   0.0  0.000105\n",
       "10996  10996.0   0.0  0.000116\n",
       "10997  10997.0   0.0  0.000125\n",
       "\n",
       "[10998 rows x 3 columns]"
      ]
     },
     "execution_count": 36,
     "metadata": {},
     "output_type": "execute_result"
    }
   ],
   "source": [
    "df2[df2['Pain'] == 0]"
   ]
  },
  {
   "cell_type": "markdown",
   "id": "d3a82e30-2043-4a30-8836-847d25476ff4",
   "metadata": {},
   "source": [
    "# Генерация изображений"
   ]
  },
  {
   "cell_type": "code",
   "execution_count": 17,
   "id": "45e91fe7-d015-4440-8365-f13b88b1c8cc",
   "metadata": {},
   "outputs": [
    {
     "data": {
      "image/png": "[encoded data removed]",
      "text/plain": [
       "<Figure size 640x480 with 1 Axes>"
      ]
     },
     "metadata": {},
     "output_type": "display_data"
    }
   ],
   "source": [
    "#пример сохранения изображения \n",
    "step = 500\n",
    "plt.plot(df2['Voltage'][0:step])\n",
    "plt.axis('off')\n",
    "# Устанавливаем размер изображения (5.12 дюймов для 512 пикселей при 100 DPI)\n",
    "#plt.gcf().set_size_inches(5.12, 5.12)\n",
    "#plt.savefig('my_plot.png', dpi=100)\n",
    "plt.show()"
   ]
  },
  {
   "cell_type": "markdown",
   "id": "e92421f8-d8ba-4e1c-9134-810f01a55539",
   "metadata": {},
   "source": [
    "## Гиперпараметрами при сохранении изображения являются: \n",
    "### 1) Количество точек для отображения сигнала \n",
    "### 2) Разрешение изображения "
   ]
  },
  {
   "cell_type": "code",
   "execution_count": 18,
   "id": "958d90e8-b6dd-478c-9fc0-bfe055f8d5d1",
   "metadata": {},
   "outputs": [
    {
     "name": "stdout",
     "output_type": "stream",
     "text": [
      "1\n"
     ]
    }
   ],
   "source": [
    "pain_marker = 0\n",
    "for k in range(10000,11000+1):\n",
    "    if df2.iloc[k]['Pain'] == 1:\n",
    "        pain_marker = 1\n",
    "print(pain_marker)"
   ]
  },
  {
   "cell_type": "code",
   "execution_count": 19,
   "id": "56d05cc3-f759-4a4b-b558-c453977d9d0a",
   "metadata": {},
   "outputs": [
    {
     "data": {
      "text/plain": [
       "True"
      ]
     },
     "execution_count": 19,
     "metadata": {},
     "output_type": "execute_result"
    }
   ],
   "source": [
    "df2.iloc[10998]['Pain'] == 1"
   ]
  },
  {
   "cell_type": "code",
   "execution_count": 20,
   "id": "a81b995a-76f6-4318-8e40-c43ccf4b1550",
   "metadata": {},
   "outputs": [
    {
     "name": "stdout",
     "output_type": "stream",
     "text": [
      "2\n",
      "3\n",
      "4\n",
      "5\n",
      "6\n",
      "7\n",
      "8\n",
      "9\n"
     ]
    }
   ],
   "source": [
    "for k in range(2,10):\n",
    "    print(k) \n"
   ]
  },
  {
   "cell_type": "code",
   "execution_count": 38,
   "id": "21252f66-9adf-4b78-a8c2-fdb7e9811dad",
   "metadata": {},
   "outputs": [
    {
     "name": "stdout",
     "output_type": "stream",
     "text": [
      "Изображения успешно сохранены.\n"
     ]
    },
    {
     "data": {
      "text/plain": [
       "<Figure size 512x512 with 0 Axes>"
      ]
     },
     "metadata": {},
     "output_type": "display_data"
    }
   ],
   "source": [
    "# Путь к папке для сохранения файлов\n",
    "save_dir = 'dataset'\n",
    "pain_dir = os.path.join(save_dir, 'pain')\n",
    "no_pain_dir = os.path.join(save_dir, 'no_pain')\n",
    "\n",
    "# Создание папок, если их нет\n",
    "if not os.path.exists(pain_dir):\n",
    "    os.makedirs(pain_dir)\n",
    "if not os.path.exists(no_pain_dir):\n",
    "    os.makedirs(no_pain_dir)\n",
    "\n",
    "# Шаг сегментации\n",
    "step = 50\n",
    "pain_segments = []\n",
    "no_pain_segments = []\n",
    "\n",
    "# Разделим данные на сегменты боли и без боли\n",
    "for i in range(len(df2) // step):\n",
    "    pain_marker = 0\n",
    "    for k in range(i * step, (i + 1) * step):\n",
    "        if df2.iloc[k]['Pain'] == 1:\n",
    "            pain_marker = 1\n",
    "            break  # Если хотя бы одна точка содержит боль, прерываем цикл\n",
    "\n",
    "    # Сохраняем индексы сегментов\n",
    "    if pain_marker == 1:\n",
    "        pain_segments.append(i)\n",
    "    else:\n",
    "        no_pain_segments.append(i)\n",
    "\n",
    "# Балансировка классов (оставляем случайные сегменты боли в том же количестве, что и сегменты без боли)\n",
    "balanced_pain_segments = np.random.choice(pain_segments, len(no_pain_segments), replace=False)\n",
    "\n",
    "# Функция для сохранения изображений\n",
    "def save_plot(start_idx, folder, label):\n",
    "    plt.plot(df2['Voltage'][start_idx*step:(start_idx+1)*step])\n",
    "    plt.axis('off')\n",
    "    plt.gcf().set_size_inches(5.12, 5.12)\n",
    "    file_name = f'signal_{start_idx}_pain_{label}.png'\n",
    "    file_path = os.path.join(folder, file_name)\n",
    "    plt.savefig(file_path, dpi=100, bbox_inches='tight', format='png')\n",
    "    plt.clf()  # Очищает текущую фигуру для следующего графика\n",
    "\n",
    "# Сохранение изображений с болью\n",
    "for idx in balanced_pain_segments:\n",
    "    save_plot(idx, pain_dir, 1)\n",
    "\n",
    "# Сохранение изображений без боли\n",
    "for idx in no_pain_segments:\n",
    "    save_plot(idx, no_pain_dir, 0)\n",
    "\n",
    "print(\"Изображения успешно сохранены.\")\n"
   ]
  },
  {
   "cell_type": "code",
   "execution_count": null,
   "id": "15c97f1c-2264-4061-902d-d17384275bd0",
   "metadata": {},
   "outputs": [],
   "source": [
    "def save_eeg_images(dataset, resolution, step, patient_id):\n",
    "    # Путь к папке для сохранения файлов\n",
    "    save_dir = 'dataset'\n",
    "    pain_dir = os.path.join(save_dir, 'pain')\n",
    "    no_pain_dir = os.path.join(save_dir, 'no_pain')\n",
    "\n",
    "    # Создание папок, если их нет\n",
    "    if not os.path.exists(pain_dir):\n",
    "        os.makedirs(pain_dir)\n",
    "    if not os.path.exists(no_pain_dir):\n",
    "        os.makedirs(no_pain_dir)\n",
    "\n",
    "    # Разделим данные на сегменты боли и без боли\n",
    "    pain_segments = []\n",
    "    no_pain_segments = []\n",
    "\n",
    "    for i in range(len(dataset) // step):\n",
    "        pain_marker = 0\n",
    "        for k in range(i * step, (i + 1) * step):\n",
    "            if dataset.iloc[k]['Pain'] == 1:\n",
    "                pain_marker = 1\n",
    "                break  # Если хотя бы одна точка содержит боль, прерываем цикл\n",
    "\n",
    "        # Сохраняем индексы сегментов\n",
    "        if pain_marker == 1:\n",
    "            pain_segments.append(i)\n",
    "        else:\n",
    "            no_pain_segments.append(i)\n",
    "\n",
    "    # Балансировка классов (оставляем случайные сегменты боли в том же количестве, что и сегменты без боли)\n",
    "    balanced_pain_segments = np.random.choice(pain_segments, len(no_pain_segments), replace=False)\n",
    "\n",
    "    # Функция для сохранения изображений\n",
    "    def save_plot(start_idx, folder, label):\n",
    "        plt.plot(dataset['Voltage'][start_idx*step:(start_idx+1)*step])\n",
    "        plt.axis('off')\n",
    "        plt.gcf().set_size_inches(resolution / 100, resolution / 100)  # Устанавливаем разрешение\n",
    "        file_name = f'signal_{patient_id}_{start_idx}_pain_{label}.png'  # Уникальное имя файла с ID пациента\n",
    "        file_path = os.path.join(folder, file_name)\n",
    "        plt.savefig(file_path, dpi=100, bbox_inches='tight', format='png')\n",
    "        plt.clf()  # Очищает текущую фигуру для следующего графика\n",
    "\n",
    "    # Сохранение изображений с болью\n",
    "    for idx in balanced_pain_segments:\n",
    "        save_plot(idx, pain_dir, 1)\n",
    "\n",
    "    # Сохранение изображений без боли\n",
    "    for idx in no_pain_segments:\n",
    "        save_plot(idx, no_pain_dir, 0)\n",
    "\n",
    "    print(f\"Изображения для пациента {patient_id} успешно сохранены.\")"
   ]
  },
  {
   "cell_type": "code",
   "execution_count": null,
   "id": "42f7d26d",
   "metadata": {},
   "outputs": [],
   "source": []
  },
  {
   "cell_type": "code",
   "execution_count": null,
   "id": "fd986af2",
   "metadata": {},
   "outputs": [],
   "source": []
  }
 ],
 "metadata": {
  "kernelspec": {
   "display_name": "Python 3 (ipykernel)",
   "language": "python",
   "name": "python3"
  },
  "language_info": {
   "codemirror_mode": {
    "name": "ipython",
    "version": 3
   },
   "file_extension": ".py",
   "mimetype": "text/x-python",
   "name": "python",
   "nbconvert_exporter": "python",
   "pygments_lexer": "ipython3",
   "version": "3.7.12"
  },
  "widgets": {
   "application/vnd.jupyter.widget-state+json": {
    "state": {},
    "version_major": 2,
    "version_minor": 0
   }
  }
 },
 "nbformat": 4,
 "nbformat_minor": 5
}
